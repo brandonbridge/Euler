{
 "cells": [
  {
   "cell_type": "markdown",
   "metadata": {},
   "source": [
    "### Problem: Special Pythagorean triplet\n",
    "\n",
    "A Pythagorean triplet is a set of three natural numbers, a < b < c, for which,\n",
    "\n",
    "a^2 + b^2 = c^2\n",
    "\n",
    "For example, 3^2 + 4^2 = 9 + 16 = 25 = 5^2.\n",
    "\n",
    "There exists exactly one Pythagorean triplet for which a + b + c = 1000.\n",
    "Find the product abc."
   ]
  },
  {
   "cell_type": "code",
   "execution_count": 37,
   "metadata": {},
   "outputs": [],
   "source": [
    "import time"
   ]
  },
  {
   "cell_type": "code",
   "execution_count": 38,
   "metadata": {},
   "outputs": [],
   "source": [
    "a = []\n",
    "for i in range(1, 333):\n",
    "    a.append(i)\n",
    "\n",
    "b = []\n",
    "for i in range(2, 499):\n",
    "    b.append(i)\n",
    "    \n",
    "c = []\n",
    "for i in range(3, 997):\n",
    "    c.append(i)"
   ]
  },
  {
   "cell_type": "code",
   "execution_count": 39,
   "metadata": {},
   "outputs": [],
   "source": [
    "add_to_1k = []\n",
    "special = []"
   ]
  },
  {
   "cell_type": "code",
   "execution_count": 40,
   "metadata": {},
   "outputs": [],
   "source": [
    "for i in a:\n",
    "    for j in b:\n",
    "        for k in c:\n",
    "            if k + j + i == 1000 and i < j and j < k:\n",
    "                add_to_1k.append([i, j, k])"
   ]
  },
  {
   "cell_type": "code",
   "execution_count": 41,
   "metadata": {},
   "outputs": [
    {
     "name": "stdout",
     "output_type": "stream",
     "text": [
      "The special pythagorean triplet is:  [200, 375, 425]\n",
      "Hence, 200 squared plus 375 squared equals 180625, which equals 425 squared.\n",
      "The answer to problem 9 is:  31875000\n"
     ]
    }
   ],
   "source": [
    "for i in add_to_1k:\n",
    "    if i[0]**2 + i[1]**2 == i[2]**2:\n",
    "        special.append(i)\n",
    "        print(\"The special pythagorean triplet is: \", i)\n",
    "        print(\"Hence, \" + str(i[0]) + \" squared plus \" + str(i[1]) + \" squared equals \" + str(i[2]**2) + \", which equals \" + str(i[2]) + \" squared.\")\n",
    "        print(\"The answer to problem 9 is: \", i[0]*i[1]*i[2])"
   ]
  }
 ],
 "metadata": {
  "kernelspec": {
   "display_name": "Python 3",
   "language": "python",
   "name": "python3"
  },
  "language_info": {
   "codemirror_mode": {
    "name": "ipython",
    "version": 3
   },
   "file_extension": ".py",
   "mimetype": "text/x-python",
   "name": "python",
   "nbconvert_exporter": "python",
   "pygments_lexer": "ipython3",
   "version": "3.7.5"
  }
 },
 "nbformat": 4,
 "nbformat_minor": 4
}
