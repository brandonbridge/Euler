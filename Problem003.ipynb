{
 "cells": [
  {
   "cell_type": "markdown",
   "metadata": {},
   "source": [
    "### Problem: Largest Prime Factor\n",
    "\n",
    "The prime factors of 13195 are 5, 7, 13 and 29.\n",
    "\n",
    "What is the largest prime factor of the number 600851475143 ?"
   ]
  },
  {
   "cell_type": "code",
   "execution_count": null,
   "metadata": {},
   "outputs": [
    {
     "name": "stdout",
     "output_type": "stream",
     "text": [
      "1: 600851475143 is equal to 71 times 8462696833.0\n",
      "2: 600851475143 is equal to 839 times 716151937.0\n",
      "3: 600851475143 is equal to 1471 times 408464633.0\n",
      "4: 600851475143 is equal to 6857 times 87625999.0\n",
      "5: 600851475143 is equal to 59569 times 10086647.0\n",
      "6: 600851475143 is equal to 104441 times 5753023.0\n",
      "7: 600851475143 is equal to 486847 times 1234169.0\n",
      "8: 600851475143 is equal to 1234169 times 486847.0\n",
      "9: 600851475143 is equal to 5753023 times 104441.0\n",
      "10: 600851475143 is equal to 10086647 times 59569.0\n",
      "11: 600851475143 is equal to 87625999 times 6857.0\n",
      "12: 600851475143 is equal to 408464633 times 1471.0\n"
     ]
    }
   ],
   "source": [
    "number = 600851475143\n",
    "factors = []\n",
    "for i in range(2,number):\n",
    "    if number % i == 0:\n",
    "        factors.append(i)\n",
    "        print(str(len(factors)) + \": \" + str(number) + \" is equal to \" + str(i) + \" times \" + str(number/i))\n",
    "print(factors)"
   ]
  },
  {
   "cell_type": "code",
   "execution_count": 18,
   "metadata": {},
   "outputs": [
    {
     "name": "stdout",
     "output_type": "stream",
     "text": [
      "[71, 839, 1471, 6857, 59569, 104441, 486847, 1234169, 5753023, 10086647, 87625999, 408464633, 716151937]\n"
     ]
    }
   ],
   "source": [
    "print(factors)"
   ]
  },
  {
   "cell_type": "code",
   "execution_count": 19,
   "metadata": {},
   "outputs": [],
   "source": [
    "factors.append(8462696833)"
   ]
  },
  {
   "cell_type": "code",
   "execution_count": 23,
   "metadata": {},
   "outputs": [
    {
     "name": "stdout",
     "output_type": "stream",
     "text": [
      "71 is a prime number\n",
      "839 is a prime number\n",
      "1471 is a prime number\n",
      "6857 is a prime number\n",
      "59569 is not a prime number\n",
      "104441 is not a prime number\n",
      "486847 is not a prime number\n",
      "1234169 is not a prime number\n",
      "5753023 is not a prime number\n",
      "10086647 is not a prime number\n",
      "87625999 is not a prime number\n",
      "408464633 is not a prime number\n",
      "716151937 is not a prime number\n",
      "8462696833 is not a prime number\n",
      "[71, 839, 1471, 6857]\n",
      "The largest prime factor of 600851475143 is: 6857\n"
     ]
    }
   ],
   "source": [
    "prime_factors = []\n",
    "for i in factors:\n",
    "    for j in range(2,i):\n",
    "        if i % j == 0:\n",
    "            print(str(i) + \" is not a prime number\")\n",
    "            break #breaks out of the innermost enclosing for or while loop\n",
    "    else:\n",
    "        print(str(i) + \" is a prime number\")\n",
    "        prime_factors.append(i)\n",
    "            \n",
    "            \n",
    "print(prime_factors)\n",
    "print(\"The largest prime factor of \" + str(number) + \" is: \" + str(max(prime_factors)))\n",
    "            \n",
    "    "
   ]
  }
 ],
 "metadata": {
  "kernelspec": {
   "display_name": "Python 3",
   "language": "python",
   "name": "python3"
  },
  "language_info": {
   "codemirror_mode": {
    "name": "ipython",
    "version": 3
   },
   "file_extension": ".py",
   "mimetype": "text/x-python",
   "name": "python",
   "nbconvert_exporter": "python",
   "pygments_lexer": "ipython3",
   "version": "3.7.5"
  }
 },
 "nbformat": 4,
 "nbformat_minor": 4
}
