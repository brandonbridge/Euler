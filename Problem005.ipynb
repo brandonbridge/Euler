{
 "cells": [
  {
   "cell_type": "markdown",
   "metadata": {},
   "source": [
    "### Problem: Smallest multiple\n",
    "\n",
    "2520 is the smallest number that can be divided by each of the numbers from 1 to 10 without any remainder.\n",
    "\n",
    "What is the smallest positive number that is evenly divisible by all of the numbers from 1 to 20?"
   ]
  },
  {
   "cell_type": "code",
   "execution_count": 4,
   "metadata": {},
   "outputs": [],
   "source": [
    "#first define the function to check if a number (num1) is evenly divisible by all numbers in a range (num2)\n",
    "\n",
    "def evenly_div(num1, num2):\n",
    "    for i in range(1, num2 + 1):\n",
    "        if num1 % i != 0:\n",
    "            #print(str(num1) + \" is not evenly divisible by all of the numbers from 1 to \" + str(num2))\n",
    "            return False\n",
    "            break\n",
    "    else:\n",
    "        return True"
   ]
  },
  {
   "cell_type": "code",
   "execution_count": 7,
   "metadata": {},
   "outputs": [
    {
     "name": "stdout",
     "output_type": "stream",
     "text": [
      "4\n",
      "The smallest positive number that is evenly divisible by all of the numbers from 1 to 20 is: 232792560\n"
     ]
    }
   ],
   "source": [
    "num = 19\n",
    "evenly_div_list = []\n",
    "while num < 1000000000:\n",
    "    if evenly_div(num, 20) == True:\n",
    "        evenly_div_list.append(num)\n",
    "    num += 19 #save time by only searching through numbers that are divisible by 19\n",
    "print(len(evenly_div_list))\n",
    "print(\"The smallest positive number that is evenly divisible by all of the numbers from 1 to 20 is: \" + str(min(evenly_div_list)))"
   ]
  },
  {
   "cell_type": "code",
   "execution_count": 8,
   "metadata": {},
   "outputs": [
    {
     "name": "stdout",
     "output_type": "stream",
     "text": [
      "[232792560, 465585120, 698377680, 931170240]\n"
     ]
    }
   ],
   "source": [
    "print(evenly_div_list)"
   ]
  }
 ],
 "metadata": {
  "kernelspec": {
   "display_name": "Python 3",
   "language": "python",
   "name": "python3"
  },
  "language_info": {
   "codemirror_mode": {
    "name": "ipython",
    "version": 3
   },
   "file_extension": ".py",
   "mimetype": "text/x-python",
   "name": "python",
   "nbconvert_exporter": "python",
   "pygments_lexer": "ipython3",
   "version": "3.7.5"
  }
 },
 "nbformat": 4,
 "nbformat_minor": 4
}
